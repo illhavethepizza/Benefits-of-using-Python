{
 "cells": [
  {
   "cell_type": "code",
   "execution_count": 8,
   "id": "0dcee1f0-ee75-4a55-b905-78b287f48855",
   "metadata": {},
   "outputs": [],
   "source": [
    "import openpyxl\n",
    "import pandas as pd"
   ]
  },
  {
   "cell_type": "code",
   "execution_count": 10,
   "id": "09a83f4a-0e99-49db-b054-5e86f076ff43",
   "metadata": {},
   "outputs": [],
   "source": [
    "df = pd.read_csv(\"Dataset Heart Disease2.csv\")"
   ]
  },
  {
   "cell_type": "code",
   "execution_count": 16,
   "id": "938d095f-c97a-4ec9-b88c-fbaf5f4916a1",
   "metadata": {},
   "outputs": [],
   "source": [
    "# Step 2: Add a column with the following formula =(J-K-L)*2\n",
    "df['Results'] = (df['exercise angina'] - df['oldpeak'] - df['ST slope']) * 2"
   ]
  },
  {
   "cell_type": "code",
   "execution_count": 18,
   "id": "94d5df65-e892-41c2-8721-480ab303d1b9",
   "metadata": {},
   "outputs": [],
   "source": [
    "# Step 3: Save the updated DataFrame back to a CSV file\n",
    "df.to_csv('Dataset Heart Disease Test2.csv', index=False)"
   ]
  },
  {
   "cell_type": "code",
   "execution_count": null,
   "id": "fa7d3de1-8017-48fa-8706-39cc44753a7e",
   "metadata": {},
   "outputs": [],
   "source": []
  }
 ],
 "metadata": {
  "kernelspec": {
   "display_name": "Python 3 (ipykernel)",
   "language": "python",
   "name": "python3"
  },
  "language_info": {
   "codemirror_mode": {
    "name": "ipython",
    "version": 3
   },
   "file_extension": ".py",
   "mimetype": "text/x-python",
   "name": "python",
   "nbconvert_exporter": "python",
   "pygments_lexer": "ipython3",
   "version": "3.11.7"
  }
 },
 "nbformat": 4,
 "nbformat_minor": 5
}
